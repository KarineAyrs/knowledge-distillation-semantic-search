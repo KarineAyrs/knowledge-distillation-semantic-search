{
 "cells": [
  {
   "cell_type": "markdown",
   "source": [
    "Generate synthetic data based on [flights dataset](https://www.kaggle.com/datasets/eliasdabbas/search-engine-results-flights-tickets-keywords)"
   ],
   "metadata": {
    "collapsed": false
   }
  },
  {
   "cell_type": "code",
   "execution_count": null,
   "outputs": [],
   "source": [
    "import pandas as pd\n",
    "import openai"
   ],
   "metadata": {
    "collapsed": false,
    "pycharm": {
     "name": "#%%\n"
    }
   }
  },
  {
   "cell_type": "code",
   "execution_count": null,
   "outputs": [],
   "source": [
    "PAIRS_NUM = 5\n",
    "MAX_TOKENS = 500\n",
    "TEMPERATURE = 0.9\n",
    "\n",
    "\n",
    "OPENAI_API_KEY = '<yor key>'\n",
    "openai.api_key = OPENAI_API_KEY"
   ],
   "metadata": {
    "collapsed": false,
    "pycharm": {
     "name": "#%%\n"
    }
   }
  },
  {
   "cell_type": "code",
   "execution_count": null,
   "outputs": [],
   "source": [
    "def create_pairs(doc):\n",
    "    text = openai.Completion.create(\n",
    "            model='text-davinci-003',\n",
    "            prompt=f'Generate numerated list of {PAIRS_NUM} pairs of right \\\n",
    "            search queries for text. Queries in pair should be similar by meaning and separated by \":\". \\\n",
    "            Text: {doc}\\nList:',\n",
    "            max_tokens=MAX_TOKENS,\n",
    "            temperature=TEMPERATURE\n",
    "\n",
    "        )\n",
    "    pairs = []\n",
    "    generated_pairs = text['choices'][0]['text']\n",
    "    for el in generated_pairs.split('\\n'):\n",
    "        if el=='':\n",
    "            continue\n",
    "        else:\n",
    "            if el[0].isdigit():\n",
    "                splitted = el[3:].split(':')\n",
    "\n",
    "                to_add = []\n",
    "\n",
    "                if len(splitted) == 1:\n",
    "                    splitted.append('')\n",
    "                elif len(splitted)==0:\n",
    "                    splitted.append('')\n",
    "                    splitted.append('')\n",
    "\n",
    "                pairs.append([splitted[0].strip(), splitted[1].strip()])\n",
    "\n",
    "    return pairs\n",
    "\n",
    "\n",
    "def create_dataset(data, text_file):\n",
    "    to_csv_samples = {'first': [], 'second' : []}\n",
    "    for i, ind in enumerate(data.index.tolist()):\n",
    "        pairs = create_pairs(data.loc[ind]['snippet'])\n",
    "\n",
    "        for pair in pairs:\n",
    "\n",
    "\n",
    "            to_csv_samples['first'].append(pair[0])\n",
    "            to_csv_samples['second'].append(pair[1])\n",
    "\n",
    "            text_file.write(f'{ind} : {pair[0]} : {pair[1]}\\n')\n",
    "\n",
    "        print(f'created pairs for doc {i+1} / {len(data)}\\n')\n",
    "\n"
   ],
   "metadata": {
    "collapsed": false,
    "pycharm": {
     "name": "#%%\n"
    }
   }
  },
  {
   "cell_type": "markdown",
   "source": [
    "Download dataset from [source](https://www.kaggle.com/datasets/eliasdabbas/search-engine-results-flights-tickets-keywords)\n"
   ],
   "metadata": {
    "collapsed": false
   }
  },
  {
   "cell_type": "code",
   "execution_count": null,
   "outputs": [],
   "source": [
    "flights = pd.read_csv('flights.csv')\n",
    "flights_ranks = flights[['searchTerms', 'rank', 'snippet']]"
   ],
   "metadata": {
    "collapsed": false,
    "pycharm": {
     "name": "#%%\n"
    }
   }
  },
  {
   "cell_type": "code",
   "execution_count": null,
   "outputs": [],
   "source": [
    "with open('data/samples.txt', 'a') as f:\n",
    "    create_dataset(flights_ranks, f)"
   ],
   "metadata": {
    "collapsed": false,
    "pycharm": {
     "name": "#%%\n"
    }
   }
  }
 ],
 "metadata": {
  "kernelspec": {
   "display_name": "Python 3",
   "language": "python",
   "name": "python3"
  },
  "language_info": {
   "codemirror_mode": {
    "name": "ipython",
    "version": 2
   },
   "file_extension": ".py",
   "mimetype": "text/x-python",
   "name": "python",
   "nbconvert_exporter": "python",
   "pygments_lexer": "ipython2",
   "version": "2.7.6"
  }
 },
 "nbformat": 4,
 "nbformat_minor": 0
}