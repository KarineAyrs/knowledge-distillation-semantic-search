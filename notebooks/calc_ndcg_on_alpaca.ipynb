{
 "cells": [
  {
   "cell_type": "code",
   "execution_count": null,
   "id": "5f11338c",
   "metadata": {},
   "outputs": [],
   "source": [
    "from langchain.embeddings import LlamaCppEmbeddings\n",
    "\n",
    "import evaluate \n",
    "import pandas as pd\n",
    "from tqdm import tqdm\n",
    "import torch \n",
    "from sentence_transformers import util\n",
    "\n",
    "nDCG_metric = evaluate.load('JP-SystemsX/nDCG')\n",
    "original = pd.read_csv('flights.csv')\n",
    "original = original[['searchTerms', 'rank', 'snippet']]\n",
    "\n"
   ]
  },
  {
   "cell_type": "code",
   "execution_count": null,
   "id": "7f62da72",
   "metadata": {},
   "outputs": [],
   "source": [
    "def calc_ndcg(model):\n",
    "\n",
    "    dataset_ranks = []\n",
    "    dataset_preds = []\n",
    "\n",
    "    docs = []\n",
    "    ranks = []\n",
    "    for i, row in tqdm(original.iterrows()):\n",
    "        docs.append(row['snippet'])\n",
    "        ranks.append(row['rank'])\n",
    "\n",
    "        if i!=0 and i%10==9:\n",
    "            query = row['searchTerms']\n",
    "            query_emb = torch.as_tensor(model.embed_query(query))\n",
    "            docs_emb = torch.as_tensor(model.embed_documents(docs))\n",
    "            cos_scores = util.cos_sim(query_emb, docs_emb)[0].cpu()\n",
    "            \n",
    "\n",
    "            results = torch.topk(cos_scores, k = 10, sorted=True)\n",
    "            rank_results = results[1]+1\n",
    "\n",
    "\n",
    "            dataset_ranks.append(ranks)\n",
    "            dataset_preds.append(rank_results)\n",
    "\n",
    "            ranks = []\n",
    "            docs = []\n",
    "        \n",
    "\n",
    "    return nDCG_metric.compute(references = dataset_ranks, predictions = dataset_preds)"
   ]
  },
  {
   "cell_type": "code",
   "execution_count": null,
   "id": "12ecd34d",
   "metadata": {},
   "outputs": [],
   "source": [
    "with open('/home/karineayrs/jupyter_notebooks/diploma/output/llama_ndcg.txt', 'w') as f:\n",
    "    llama = LlamaCppEmbeddings(model_path='./gpt4all-lora-quantized-new.bin')\n",
    "    ndcg_llama = calc_ndcg(llama)\n",
    "    print(ndcg_llama)\n",
    "    f.write(str(calc_ndcg(llama)))\n",
    "    f.write('\\n')\n",
    "    "
   ]
  }
 ],
 "metadata": {
  "kernelspec": {
   "display_name": "Python 3 (ipykernel)",
   "language": "python",
   "name": "python3"
  },
  "language_info": {
   "codemirror_mode": {
    "name": "ipython",
    "version": 3
   },
   "file_extension": ".py",
   "mimetype": "text/x-python",
   "name": "python",
   "nbconvert_exporter": "python",
   "pygments_lexer": "ipython3",
   "version": "3.8.10"
  }
 },
 "nbformat": 4,
 "nbformat_minor": 5
}
